{
 "cells": [
  {
   "cell_type": "markdown",
   "id": "925d24c2",
   "metadata": {},
   "source": [
    "# Q1: In the below elements which of them are values or an expression? eg:- values can be integer or string and expressions will be mathematical operators.\n",
    "* \n",
    "'hello'\n",
    "-87.8\n",
    "- \n",
    "/ \n",
    "\n",
    "6 \n"
   ]
  },
  {
   "cell_type": "markdown",
   "id": "97298a08",
   "metadata": {},
   "source": [
    "Ans 1:- There are different values and expression.\n",
    "\n",
    "* = This symbol is a expression. It is used to multiplie two variables. It is a mathematical operator.For example:-"
   ]
  },
  {
   "cell_type": "code",
   "execution_count": null,
   "id": "74bab9c4",
   "metadata": {},
   "outputs": [],
   "source": [
    "a=10\n",
    "b=45\n",
    "c=a*b\n",
    "#expression\n",
    "print(c)"
   ]
  },
  {
   "cell_type": "markdown",
   "id": "b19ad655",
   "metadata": {},
   "source": [
    "'hello' = It is a string value. String is a collection of our data.For example:-"
   ]
  },
  {
   "cell_type": "code",
   "execution_count": 2,
   "id": "080c01a5",
   "metadata": {},
   "outputs": [
    {
     "name": "stdout",
     "output_type": "stream",
     "text": [
      "<class 'str'>\n"
     ]
    }
   ],
   "source": [
    "a=\"hello\"\n",
    "print(type(a))\n",
    "#It is just a collection of our data.We can store ourstring in ('') as well as in(\"\").\n",
    "#value\n",
    "#'45' it is also a string."
   ]
  },
  {
   "cell_type": "markdown",
   "id": "0b7a51bd",
   "metadata": {},
   "source": [
    "-87.8 = It is a float type value. We can also check its data type by using command type(). For example:-"
   ]
  },
  {
   "cell_type": "code",
   "execution_count": 4,
   "id": "228459f2",
   "metadata": {},
   "outputs": [
    {
     "name": "stdout",
     "output_type": "stream",
     "text": [
      "<class 'float'>\n"
     ]
    }
   ],
   "source": [
    "a= -87.8 #value\n",
    "print (type(a))\n",
    "#Here we can easily see that it is a float value.\n",
    "#The value contain (.) are floating point. \n",
    "# (a=nav.een) This is not a float value. Only integer with(.) is known as float."
   ]
  },
  {
   "cell_type": "markdown",
   "id": "8182e196",
   "metadata": {},
   "source": [
    "\n",
    "- = It is a mathematical operator used for subtraction.It is a expression.\n",
    "\n",
    "/ = It is also a mathematical operator used to divide.It is a expression.\n",
    "\n",
    "6 = It is a integer.It is a value.\n",
    "Examples:-"
   ]
  },
  {
   "cell_type": "code",
   "execution_count": 8,
   "id": "c0e23c9c",
   "metadata": {},
   "outputs": [
    {
     "name": "stdout",
     "output_type": "stream",
     "text": [
      "39\n",
      "<class 'int'>\n",
      "7.5\n"
     ]
    }
   ],
   "source": [
    "a=45\n",
    "b=6 #value\n",
    "c=a-b#expression\n",
    "print(c)\n",
    "# In this case we can easily see that how a (-) operator work. It subtract two integers.\n",
    "print(type(b))\n",
    "#Here it clearly show that it is a integer value. It could be anything like 45 , 456 ,546 etc.\n",
    "d=a/b#expression\n",
    "print(d)\n",
    "#It is a mathemeatical operator or expression used to divide."
   ]
  },
  {
   "cell_type": "markdown",
   "id": "f13ee26f",
   "metadata": {},
   "source": [
    "# Q2. What is the difference between string and variable?\n"
   ]
  },
  {
   "cell_type": "markdown",
   "id": "c5e2f4f5",
   "metadata": {},
   "source": [
    "Ans 2:- A variable is basically the name of the location in the primary memory of your computer. This can be chosen by you. A\n",
    "variable can store everything from strings to numbers. A string is the values inside the quotes assigned to a string. A string is just a collection of your data.\n",
    "\n",
    "a=\"2145\"\n",
    "\n",
    "In this example we can see \"2145\" is a string. We can store number as well as alphabets inside the double quotes or single quotes are known as string. Where as a is variable which holds the value.\n"
   ]
  },
  {
   "cell_type": "markdown",
   "id": "55c30be9",
   "metadata": {},
   "source": [
    "# Q3. Describe three different data types.\n"
   ]
  },
  {
   "cell_type": "markdown",
   "id": "f029bc14",
   "metadata": {},
   "source": [
    "Ans 3:- The three different data types are:-\n",
    "\n",
    "1.Integer \n",
    "2.Float\n",
    "3.String\n",
    "\n",
    "1. Integers – This value is represented by int class. It contains positive or negative whole numbers (without fraction or decimal). In Python there is no limit to how long an integer value can be.They are cointaing the whole numbers like:- 65, 654, 43543.\n",
    "\n",
    "2. Float – This value is represented by float class. It is a real number with floating point representation. It is specified by a decimal point. Optionally, the character e or E followed by a positive or negative integer may be appended to specify scientific notation.They are cointaing the number with a decimal point like:- 545.155,65.1,-46.2\n",
    "\n",
    "3. String - It is just a collection of data. It can be used to store in a variable.They are contain alphanumreric characters like:-\"hello\",\"4354\",\"hhbja484\"."
   ]
  },
  {
   "cell_type": "markdown",
   "id": "822fb67f",
   "metadata": {},
   "source": [
    "# Q4. . What is an expression made up of? What do all expressions do?\n"
   ]
  },
  {
   "cell_type": "markdown",
   "id": "6c190ce7",
   "metadata": {},
   "source": [
    "Ans 4:-Ans:- An expression is a combination of values, variables, operators, and calls to functions. Expressions need to be evaluated. If you ask Python to print an expression, the interpreter evaluates the expression and displays the result. There are some different types of expressions like:- Arithmetic Expressions,  Integral Expressions , Floating Expressions ,Relational Expressions , Logical Expressions,Bitwise Expressions etc. These are some expressions are used to perform different operations.\n",
    "For example:- \n"
   ]
  },
  {
   "cell_type": "code",
   "execution_count": 9,
   "id": "1150e0d5",
   "metadata": {},
   "outputs": [
    {
     "name": "stdout",
     "output_type": "stream",
     "text": [
      "31.0\n"
     ]
    }
   ],
   "source": [
    "# Floating Expressions\n",
    "a = 155\n",
    "b = 5\n",
    "  \n",
    "c = a / b\n",
    "print(c)\n"
   ]
  },
  {
   "cell_type": "code",
   "execution_count": null,
   "id": "ecfafd7c",
   "metadata": {},
   "outputs": [],
   "source": [
    "# Arithmetic Expressions\n",
    "x = 40\n",
    "y = 12\n",
    "  \n",
    "a = x + y\n",
    "b = x - y\n",
    "c = x * y\n",
    "d = x / y\n",
    "# These are some examples of expressions used to perform different operations.  \n",
    "print(a)\n",
    "print(b)\n",
    "print(c)\n",
    "print(d)"
   ]
  },
  {
   "cell_type": "markdown",
   "id": "16a0aac1",
   "metadata": {},
   "source": [
    "# Q5:- This assignment statements, like spam = 10. What is the difference between an expression and a statement?"
   ]
  },
  {
   "cell_type": "markdown",
   "id": "fa599fe5",
   "metadata": {},
   "source": [
    "Ans5:-A statement is an instruction that the Python interpreter can execute. We have only seen the assignment statement so far. Some other kinds of statements that we'll see shortly are while statements, for statements, if statements, and import statements. (There are other kinds too!)\n",
    "\n",
    "An expression is a combination of values, variables, operators, and calls to functions. Expressions need to be evaluated. If you ask Python to print an expression, the interpreter evaluates the expression and displays the result.\n",
    "\n"
   ]
  },
  {
   "cell_type": "markdown",
   "id": "401f69f2",
   "metadata": {},
   "source": [
    "# Q6: After running the following code, what does the variable bacon contain?\n",
    "bacon=22\n",
    "bacon+1"
   ]
  },
  {
   "cell_type": "markdown",
   "id": "df1f7ffe",
   "metadata": {},
   "source": [
    "Ans6:- It added 1 interger to the given value which is 22.The answer will comes out to be 23."
   ]
  },
  {
   "cell_type": "code",
   "execution_count": 43,
   "id": "a514d2b2",
   "metadata": {},
   "outputs": [
    {
     "data": {
      "text/plain": [
       "23"
      ]
     },
     "execution_count": 43,
     "metadata": {},
     "output_type": "execute_result"
    }
   ],
   "source": [
    "bacon=22\n",
    "bacon+1"
   ]
  },
  {
   "cell_type": "markdown",
   "id": "2080cb94",
   "metadata": {},
   "source": [
    "# Q7: what would be the values of the following two terms be?\n",
    "'spam'+'spamspam'\n",
    "\n",
    " spam*3"
   ]
  },
  {
   "cell_type": "markdown",
   "id": "08ab049b",
   "metadata": {},
   "source": [
    "Ans7: In the case of 'spam'+'spamspam'. We can get a output           like'spamspamspam' because they both are strings we can         add them if one of them is  integer then it throws an           error.\n",
    "      In secound case we are getting an error because spam is a\n",
    "      string and 3 is a integer.According to the rules we can't \n",
    "      add string and integer."
   ]
  },
  {
   "cell_type": "code",
   "execution_count": 44,
   "id": "6d06f406",
   "metadata": {},
   "outputs": [
    {
     "data": {
      "text/plain": [
       "'spamspamspam'"
      ]
     },
     "execution_count": 44,
     "metadata": {},
     "output_type": "execute_result"
    }
   ],
   "source": [
    "'spam'+'spamspam'"
   ]
  },
  {
   "cell_type": "code",
   "execution_count": 45,
   "id": "ec3b0ea9",
   "metadata": {},
   "outputs": [
    {
     "ename": "NameError",
     "evalue": "name 'spam' is not defined",
     "output_type": "error",
     "traceback": [
      "\u001b[1;31m---------------------------------------------------------------------------\u001b[0m",
      "\u001b[1;31mNameError\u001b[0m                                 Traceback (most recent call last)",
      "\u001b[1;32m~\\AppData\\Local\\Temp/ipykernel_7380/4284203971.py\u001b[0m in \u001b[0;36m<module>\u001b[1;34m\u001b[0m\n\u001b[1;32m----> 1\u001b[1;33m \u001b[0mspam\u001b[0m\u001b[1;33m*\u001b[0m\u001b[1;36m3\u001b[0m\u001b[1;33m\u001b[0m\u001b[1;33m\u001b[0m\u001b[0m\n\u001b[0m",
      "\u001b[1;31mNameError\u001b[0m: name 'spam' is not defined"
     ]
    }
   ],
   "source": [
    "spam*3"
   ]
  },
  {
   "cell_type": "markdown",
   "id": "f6992322",
   "metadata": {},
   "source": [
    "# Q8: Why is eggs a valid variable name while 100 is invalid?"
   ]
  },
  {
   "cell_type": "markdown",
   "id": "ac89ea85",
   "metadata": {},
   "source": [
    "Ans: It is because variable names can't began with number. If\n",
    "     we put a variable name 100 it throws an error because it \n",
    "     is a integer where as egg is a string value which throws \n",
    "     no error and assign a variable name."
   ]
  },
  {
   "cell_type": "code",
   "execution_count": 46,
   "id": "f916d60e",
   "metadata": {},
   "outputs": [
    {
     "name": "stdout",
     "output_type": "stream",
     "text": [
      "naveen1994\n"
     ]
    }
   ],
   "source": [
    "eggs= \"naveen1994\"\n",
    "print(eggs)"
   ]
  },
  {
   "cell_type": "code",
   "execution_count": 47,
   "id": "6bbaadf6",
   "metadata": {},
   "outputs": [
    {
     "ename": "SyntaxError",
     "evalue": "cannot assign to literal (Temp/ipykernel_7380/1129638343.py, line 1)",
     "output_type": "error",
     "traceback": [
      "\u001b[1;36m  File \u001b[1;32m\"C:\\Users\\Admin\\AppData\\Local\\Temp/ipykernel_7380/1129638343.py\"\u001b[1;36m, line \u001b[1;32m1\u001b[0m\n\u001b[1;33m    100=\"naveen1992\"\u001b[0m\n\u001b[1;37m    ^\u001b[0m\n\u001b[1;31mSyntaxError\u001b[0m\u001b[1;31m:\u001b[0m cannot assign to literal\n"
     ]
    }
   ],
   "source": [
    "100=\"naveen1992\"\n",
    "print(100)"
   ]
  },
  {
   "cell_type": "markdown",
   "id": "3c86c0d2",
   "metadata": {},
   "source": [
    "# Q9:What three functions can be used to get the integer, floating-point number, or string version of a value?"
   ]
  },
  {
   "cell_type": "markdown",
   "id": "bef71124",
   "metadata": {},
   "source": [
    "Ans: The three function that we can use to get integer,floating-point and string are int(),float() and str().For example:-"
   ]
  },
  {
   "cell_type": "code",
   "execution_count": 54,
   "id": "6be5b5c5",
   "metadata": {},
   "outputs": [
    {
     "name": "stdout",
     "output_type": "stream",
     "text": [
      "5454\n"
     ]
    },
    {
     "data": {
      "text/plain": [
       "int"
      ]
     },
     "execution_count": 54,
     "metadata": {},
     "output_type": "execute_result"
    }
   ],
   "source": [
    "a=5454\n",
    "print(a)\n",
    "type(a)"
   ]
  },
  {
   "cell_type": "code",
   "execution_count": 55,
   "id": "a4048966",
   "metadata": {},
   "outputs": [
    {
     "name": "stdout",
     "output_type": "stream",
     "text": [
      "5454\n"
     ]
    },
    {
     "data": {
      "text/plain": [
       "str"
      ]
     },
     "execution_count": 55,
     "metadata": {},
     "output_type": "execute_result"
    }
   ],
   "source": [
    "a=\"5454\"\n",
    "print(a)\n",
    "type(a)"
   ]
  },
  {
   "cell_type": "code",
   "execution_count": 58,
   "id": "74df3403",
   "metadata": {},
   "outputs": [
    {
     "name": "stdout",
     "output_type": "stream",
     "text": [
      "5.454\n"
     ]
    },
    {
     "data": {
      "text/plain": [
       "float"
      ]
     },
     "execution_count": 58,
     "metadata": {},
     "output_type": "execute_result"
    }
   ],
   "source": [
    "a=5.454\n",
    "print(a)\n",
    "type(a)\n"
   ]
  },
  {
   "cell_type": "markdown",
   "id": "a75b6152",
   "metadata": {},
   "source": [
    "# Q10:Why does this expression cause an error? How can you fix it?\n",
    "'I have eaten'+ 99 + 'burritos.'"
   ]
  },
  {
   "cell_type": "markdown",
   "id": "71bd6bed",
   "metadata": {},
   "source": [
    "Ans10:- This code is throwing error because an integer is present between two string values.As we know we can't add integer and strings.So we can add it by converting it from integer to string."
   ]
  },
  {
   "cell_type": "code",
   "execution_count": 49,
   "id": "b94b21ae",
   "metadata": {},
   "outputs": [
    {
     "ename": "TypeError",
     "evalue": "can only concatenate str (not \"int\") to str",
     "output_type": "error",
     "traceback": [
      "\u001b[1;31m---------------------------------------------------------------------------\u001b[0m",
      "\u001b[1;31mTypeError\u001b[0m                                 Traceback (most recent call last)",
      "\u001b[1;32m~\\AppData\\Local\\Temp/ipykernel_7380/3580841573.py\u001b[0m in \u001b[0;36m<module>\u001b[1;34m\u001b[0m\n\u001b[0;32m      2\u001b[0m \u001b[0mb\u001b[0m\u001b[1;33m=\u001b[0m\u001b[1;36m99\u001b[0m\u001b[1;33m\u001b[0m\u001b[1;33m\u001b[0m\u001b[0m\n\u001b[0;32m      3\u001b[0m \u001b[0mc\u001b[0m\u001b[1;33m=\u001b[0m\u001b[1;34m'burritos'\u001b[0m\u001b[1;33m\u001b[0m\u001b[1;33m\u001b[0m\u001b[0m\n\u001b[1;32m----> 4\u001b[1;33m \u001b[0md\u001b[0m\u001b[1;33m=\u001b[0m\u001b[0ma\u001b[0m\u001b[1;33m+\u001b[0m\u001b[0mb\u001b[0m\u001b[1;33m+\u001b[0m\u001b[0mc\u001b[0m\u001b[1;33m\u001b[0m\u001b[1;33m\u001b[0m\u001b[0m\n\u001b[0m\u001b[0;32m      5\u001b[0m \u001b[0mprint\u001b[0m\u001b[1;33m(\u001b[0m\u001b[0md\u001b[0m\u001b[1;33m)\u001b[0m\u001b[1;33m\u001b[0m\u001b[1;33m\u001b[0m\u001b[0m\n",
      "\u001b[1;31mTypeError\u001b[0m: can only concatenate str (not \"int\") to str"
     ]
    }
   ],
   "source": [
    "a='i have eaten'\n",
    "b=99\n",
    "c='burritos'\n",
    "d=a+b+c\n",
    "print(d)"
   ]
  },
  {
   "cell_type": "code",
   "execution_count": 50,
   "id": "63d39619",
   "metadata": {},
   "outputs": [
    {
     "name": "stdout",
     "output_type": "stream",
     "text": [
      "i have eaten99burritos\n"
     ]
    }
   ],
   "source": [
    "a='i have eaten'\n",
    "b=str(99)\n",
    "c='burritos'\n",
    "d=a+b+c\n",
    "print(d)"
   ]
  },
  {
   "cell_type": "code",
   "execution_count": null,
   "id": "b32ea828",
   "metadata": {},
   "outputs": [],
   "source": []
  }
 ],
 "metadata": {
  "kernelspec": {
   "display_name": "Python 3 (ipykernel)",
   "language": "python",
   "name": "python3"
  },
  "language_info": {
   "codemirror_mode": {
    "name": "ipython",
    "version": 3
   },
   "file_extension": ".py",
   "mimetype": "text/x-python",
   "name": "python",
   "nbconvert_exporter": "python",
   "pygments_lexer": "ipython3",
   "version": "3.9.7"
  }
 },
 "nbformat": 4,
 "nbformat_minor": 5
}
